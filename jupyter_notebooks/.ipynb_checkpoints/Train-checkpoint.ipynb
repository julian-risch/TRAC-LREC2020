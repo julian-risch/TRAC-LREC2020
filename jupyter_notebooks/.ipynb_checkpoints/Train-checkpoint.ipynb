{
 "cells": [
  {
   "cell_type": "markdown",
   "metadata": {},
   "source": [
    "# Training the Explainable Classifiers"
   ]
  },
  {
   "cell_type": "markdown",
   "metadata": {},
   "source": [
    "## Importing Explainable Classifiers\n",
    "\n",
    "... and numpy, pandas and sklearn"
   ]
  },
  {
   "cell_type": "code",
   "execution_count": 1,
   "metadata": {},
   "outputs": [
    {
     "name": "stderr",
     "output_type": "stream",
     "text": [
      "Using TensorFlow backend.\n"
     ]
    }
   ],
   "source": [
    "import sys\n",
    "sys.path.append(\"../classifiers/\")\n",
    "from ExplainableClassifier import ExplainableClassifier\n",
    "from ExplainableLSTM import ExplainableLSTM\n",
    "from ExplainableSVM import ExplainableSVM\n",
    "from ExplainableNaiveBayes import ExplainableNaiveBayes\n",
    "from ExplainableAttentionLSTM import ExplainableAttentionLSTM\n",
    "\n",
    "import sklearn\n",
    "import numpy as np\n",
    "import pandas as pd"
   ]
  },
  {
   "cell_type": "markdown",
   "metadata": {},
   "source": [
    "## Loading the GloVe Wordvectors"
   ]
  },
  {
   "cell_type": "code",
   "execution_count": 2,
   "metadata": {},
   "outputs": [
    {
     "name": "stdout",
     "output_type": "stream",
     "text": [
      "Load word embeddings\n",
      "Word embeddings loaded.\n"
     ]
    }
   ],
   "source": [
    "glove = ExplainableLSTM.load_glove_wordvectors('../wordvectors/glove.6B.50d.txt')"
   ]
  },
  {
   "cell_type": "markdown",
   "metadata": {},
   "source": [
    "# 20newsgroups"
   ]
  },
  {
   "cell_type": "markdown",
   "metadata": {},
   "source": [
    "### Loading the Training Dataset"
   ]
  },
  {
   "cell_type": "code",
   "execution_count": 3,
   "metadata": {},
   "outputs": [],
   "source": [
    "data_ng = sklearn.datasets.fetch_20newsgroups(subset='train')\n",
    "X_ng = np.array([text.partition('\\n\\n')[2] for text in data_ng.data])\n",
    "y_ng = np.array(data_ng.target)\n",
    "data_ng_test = sklearn.datasets.fetch_20newsgroups(subset='test')\n",
    "X_ng_test = np.array([text.partition('\\n\\n')[2] for text in data_ng_test.data])\n",
    "y_ng_test = np.array(data_ng_test.target)\n",
    "label_mapping_ng = [data_ng.target_names]\n",
    "del data_ng, data_ng_test\n"
   ]
  },
  {
   "cell_type": "markdown",
   "metadata": {},
   "source": [
    "## LSTM (20ng)"
   ]
  },
  {
   "cell_type": "code",
   "execution_count": 4,
   "metadata": {},
   "outputs": [],
   "source": [
    "lstm_ng = ExplainableLSTM(glove, lstm_units=50, max_input_size=300)"
   ]
  },
  {
   "cell_type": "code",
   "execution_count": 5,
   "metadata": {},
   "outputs": [],
   "source": [
    "lstm_ng.label_mapping = label_mapping_ng"
   ]
  },
  {
   "cell_type": "code",
   "execution_count": 22,
   "metadata": {},
   "outputs": [
    {
     "name": "stdout",
     "output_type": "stream",
     "text": [
      "Epoch 1/15\n",
      "100/100 [==============================] - 1s 12ms/step - loss: 3.0467 - acc: 0.0700\n",
      "Epoch 2/15\n",
      "100/100 [==============================] - 0s 4ms/step - loss: 2.7055 - acc: 0.1700\n",
      "Epoch 3/15\n",
      "100/100 [==============================] - 0s 4ms/step - loss: 2.5278 - acc: 0.1900\n",
      "Epoch 4/15\n",
      "100/100 [==============================] - 0s 4ms/step - loss: 2.3183 - acc: 0.3600\n",
      "Epoch 5/15\n",
      "100/100 [==============================] - 0s 4ms/step - loss: 2.1757 - acc: 0.4100\n",
      "Epoch 6/15\n",
      "100/100 [==============================] - 0s 4ms/step - loss: 1.9908 - acc: 0.4200\n",
      "Epoch 7/15\n",
      "100/100 [==============================] - 0s 4ms/step - loss: 1.8501 - acc: 0.4600\n",
      "Epoch 8/15\n",
      "100/100 [==============================] - 0s 4ms/step - loss: 1.6684 - acc: 0.5200\n",
      "Epoch 9/15\n",
      "100/100 [==============================] - 0s 4ms/step - loss: 1.5627 - acc: 0.5400\n",
      "Epoch 10/15\n",
      "100/100 [==============================] - 0s 4ms/step - loss: 1.3889 - acc: 0.6400\n",
      "Epoch 11/15\n",
      "100/100 [==============================] - 0s 4ms/step - loss: 1.2997 - acc: 0.7000\n",
      "Epoch 12/15\n",
      "100/100 [==============================] - 0s 4ms/step - loss: 1.3210 - acc: 0.6700\n",
      "Epoch 13/15\n",
      "100/100 [==============================] - 0s 4ms/step - loss: 1.2404 - acc: 0.6800\n",
      "Epoch 14/15\n",
      "100/100 [==============================] - 0s 4ms/step - loss: 1.1452 - acc: 0.7200\n",
      "Epoch 15/15\n",
      "100/100 [==============================] - 0s 4ms/step - loss: 1.1214 - acc: 0.7100\n"
     ]
    }
   ],
   "source": [
    "lstm_ng.train(X_ng, y_ng, epochs=15, learning_rate=0.005)"
   ]
  },
  {
   "cell_type": "code",
   "execution_count": 28,
   "metadata": {},
   "outputs": [
    {
     "data": {
      "text/plain": [
       "[0.6671534784917684]"
      ]
     },
     "execution_count": 28,
     "metadata": {},
     "output_type": "execute_result"
    }
   ],
   "source": [
    "lstm_ng.evaluate(X_ng_test, y_ng_test)"
   ]
  },
  {
   "cell_type": "code",
   "execution_count": 23,
   "metadata": {},
   "outputs": [],
   "source": [
    "# lstm_ng.export_model('../trained_models/lstm_ng')"
   ]
  },
  {
   "cell_type": "code",
   "execution_count": 4,
   "metadata": {},
   "outputs": [
    {
     "name": "stdout",
     "output_type": "stream",
     "text": [
      "WARNING:tensorflow:From /home/robin/.conda/envs/bachelor_thesis/lib/python3.6/site-packages/tensorflow/python/framework/op_def_library.py:263: colocate_with (from tensorflow.python.framework.ops) is deprecated and will be removed in a future version.\n",
      "Instructions for updating:\n",
      "Colocations handled automatically by placer.\n",
      "WARNING:tensorflow:From /home/robin/.conda/envs/bachelor_thesis/lib/python3.6/site-packages/tensorflow/python/ops/math_ops.py:3066: to_int32 (from tensorflow.python.ops.math_ops) is deprecated and will be removed in a future version.\n",
      "Instructions for updating:\n",
      "Use tf.cast instead.\n"
     ]
    }
   ],
   "source": [
    "lstm_ng2 = ExplainableLSTM.import_model('../trained_models/lstm_ng', glove)"
   ]
  },
  {
   "cell_type": "markdown",
   "metadata": {},
   "source": [
    "## Atention LSTM (20ng)"
   ]
  },
  {
   "cell_type": "code",
   "execution_count": 7,
   "metadata": {},
   "outputs": [],
   "source": [
    "att_lstm_ng = ExplainableAttentionLSTM(glove, lstm_units=50, max_input_size=300)"
   ]
  },
  {
   "cell_type": "code",
   "execution_count": 8,
   "metadata": {},
   "outputs": [],
   "source": [
    "att_lstm_ng.label_mapping = label_mapping_ng"
   ]
  },
  {
   "cell_type": "code",
   "execution_count": 9,
   "metadata": {},
   "outputs": [
    {
     "name": "stdout",
     "output_type": "stream",
     "text": [
      "WARNING:tensorflow:From /home/robin/.conda/envs/bachelor_thesis/lib/python3.6/site-packages/tensorflow/python/framework/op_def_library.py:263: colocate_with (from tensorflow.python.framework.ops) is deprecated and will be removed in a future version.\n",
      "Instructions for updating:\n",
      "Colocations handled automatically by placer.\n",
      "WARNING:tensorflow:From /home/robin/.conda/envs/bachelor_thesis/lib/python3.6/site-packages/tensorflow/python/ops/math_ops.py:3066: to_int32 (from tensorflow.python.ops.math_ops) is deprecated and will be removed in a future version.\n",
      "Instructions for updating:\n",
      "Use tf.cast instead.\n",
      "WARNING:tensorflow:From /home/robin/.conda/envs/bachelor_thesis/lib/python3.6/site-packages/tensorflow/python/ops/math_grad.py:102: div (from tensorflow.python.ops.math_ops) is deprecated and will be removed in a future version.\n",
      "Instructions for updating:\n",
      "Deprecated in favor of operator or tf.math.divide.\n",
      "Epoch 1/10\n",
      "1000/1000 [==============================] - 4s 4ms/step - loss: 2.8834 - acc: 0.1170A: 2s - loss: 2.9\n",
      "Epoch 2/10\n",
      "1000/1000 [==============================] - 3s 3ms/step - loss: 2.3082 - acc: 0.2580\n",
      "Epoch 3/10\n",
      "1000/1000 [==============================] - 3s 3ms/step - loss: 1.8410 - acc: 0.3990\n",
      "Epoch 4/10\n",
      "1000/1000 [==============================] - 3s 3ms/step - loss: 1.5436 - acc: 0.5060\n",
      "Epoch 5/10\n",
      "1000/1000 [==============================] - 3s 3ms/step - loss: 1.3602 - acc: 0.5710\n",
      "Epoch 6/10\n",
      "1000/1000 [==============================] - 3s 3ms/step - loss: 1.0969 - acc: 0.6540\n",
      "Epoch 7/10\n",
      "1000/1000 [==============================] - 3s 3ms/step - loss: 0.9809 - acc: 0.6950\n",
      "Epoch 8/10\n",
      "1000/1000 [==============================] - 3s 3ms/step - loss: 0.7881 - acc: 0.7560\n",
      "Epoch 9/10\n",
      "1000/1000 [==============================] - 3s 3ms/step - loss: 0.6574 - acc: 0.7880\n",
      "Epoch 10/10\n",
      "1000/1000 [==============================] - 3s 3ms/step - loss: 0.5697 - acc: 0.8250\n"
     ]
    }
   ],
   "source": [
    "att_lstm_ng.train(X_ng, y_ng, epochs=10, learning_rate=0.005)"
   ]
  },
  {
   "cell_type": "code",
   "execution_count": 11,
   "metadata": {},
   "outputs": [
    {
     "data": {
      "text/plain": [
       "[(0.5182479519381343, 0.5077471649873475, 0.5052878122188977)]"
      ]
     },
     "execution_count": 11,
     "metadata": {},
     "output_type": "execute_result"
    }
   ],
   "source": [
    "att_lstm_ng.evaluate(X_ng_test, y_ng_test, metric='f1')"
   ]
  },
  {
   "cell_type": "code",
   "execution_count": 29,
   "metadata": {},
   "outputs": [],
   "source": [
    "# att_lstm_ng.export_model('../trained_models/att_lstm_ng')"
   ]
  },
  {
   "cell_type": "code",
   "execution_count": 10,
   "metadata": {},
   "outputs": [
    {
     "name": "stdout",
     "output_type": "stream",
     "text": [
      "WARNING:tensorflow:From /home/robin/.conda/envs/bachelor_thesis/lib/python3.6/site-packages/tensorflow/python/ops/math_grad.py:102: div (from tensorflow.python.ops.math_ops) is deprecated and will be removed in a future version.\n",
      "Instructions for updating:\n",
      "Deprecated in favor of operator or tf.math.divide.\n"
     ]
    }
   ],
   "source": [
    "att_lstm_ng2 = ExplainableAttentionLSTM.import_model('../trained_models/att_lstm_ng', glove)"
   ]
  },
  {
   "cell_type": "markdown",
   "metadata": {},
   "source": [
    "## SVM  (20ng)"
   ]
  },
  {
   "cell_type": "code",
   "execution_count": 17,
   "metadata": {},
   "outputs": [],
   "source": [
    "svm_ng = ExplainableSVM()\n",
    "svm_ng.label_mapping = label_mapping_ng"
   ]
  },
  {
   "cell_type": "code",
   "execution_count": 18,
   "metadata": {},
   "outputs": [],
   "source": [
    "svm_ng.train(X_ng, y_ng)"
   ]
  },
  {
   "cell_type": "code",
   "execution_count": 21,
   "metadata": {},
   "outputs": [
    {
     "data": {
      "text/plain": [
       "[0.8035050451407328]"
      ]
     },
     "execution_count": 21,
     "metadata": {},
     "output_type": "execute_result"
    }
   ],
   "source": [
    "svm_ng.evaluate(X_ng_test, y_ng_test)"
   ]
  },
  {
   "cell_type": "code",
   "execution_count": 14,
   "metadata": {},
   "outputs": [],
   "source": [
    "# svm_ng.export_model('../trained_models/svm_ng')"
   ]
  },
  {
   "cell_type": "code",
   "execution_count": 2,
   "metadata": {},
   "outputs": [],
   "source": [
    "svm_ng2 = ExplainableSVM.import_model('../trained_models/svm_ng')"
   ]
  },
  {
   "cell_type": "markdown",
   "metadata": {},
   "source": [
    "## Naive Bayes (20ng)"
   ]
  },
  {
   "cell_type": "code",
   "execution_count": 22,
   "metadata": {},
   "outputs": [],
   "source": [
    "naive_ng = ExplainableNaiveBayes()"
   ]
  },
  {
   "cell_type": "code",
   "execution_count": 23,
   "metadata": {},
   "outputs": [],
   "source": [
    "naive_ng.train(X_ng, y_ng)"
   ]
  },
  {
   "cell_type": "code",
   "execution_count": 24,
   "metadata": {},
   "outputs": [
    {
     "data": {
      "text/plain": [
       "[0.725]"
      ]
     },
     "execution_count": 24,
     "metadata": {},
     "output_type": "execute_result"
    }
   ],
   "source": [
    "naive_ng.evaluate(X_ng_test[:5000], y_ng_test[:5000])"
   ]
  },
  {
   "cell_type": "code",
   "execution_count": 9,
   "metadata": {},
   "outputs": [],
   "source": [
    "# naive_ng.export_model('../trained_models/naive_ng')"
   ]
  },
  {
   "cell_type": "code",
   "execution_count": 13,
   "metadata": {},
   "outputs": [],
   "source": [
    "naive_ng2 = ExplainableNaiveBayes.import_model('../trained_models/naive_ng')"
   ]
  },
  {
   "cell_type": "markdown",
   "metadata": {},
   "source": [
    "# Toxic Comments"
   ]
  },
  {
   "cell_type": "code",
   "execution_count": 7,
   "metadata": {},
   "outputs": [
    {
     "name": "stdout",
     "output_type": "stream",
     "text": [
      "Load word embeddings\n",
      "Word embeddings loaded.\n"
     ]
    }
   ],
   "source": [
    "glove = ExplainableLSTM.load_glove_wordvectors('../wordvectors/tc_custom_trained_vectors.txt')"
   ]
  },
  {
   "cell_type": "code",
   "execution_count": 8,
   "metadata": {},
   "outputs": [],
   "source": [
    "data_tc = pd.read_csv('../datasets/toxic_comments/train_custom.csv')\n",
    "X_tc = data_tc.comment_text.to_numpy()\n",
    "y_tc = data_tc[['toxic', 'severe_toxic', 'obscene', 'threat', 'insult', 'identity_hate']].to_numpy()\n",
    "\n",
    "data_tc_test = pd.read_csv('../datasets/toxic_comments/test_custom.csv')\n",
    "X_tc_test = data_tc_test.comment_text.to_numpy()\n",
    "y_tc_test = data_tc_test[['toxic', 'severe_toxic', 'obscene', 'threat', 'insult', 'identity_hate']].to_numpy()\n",
    "\n",
    "del data_tc, data_tc_test"
   ]
  },
  {
   "cell_type": "markdown",
   "metadata": {},
   "source": [
    "## LSTM (Toxic Comments)"
   ]
  },
  {
   "cell_type": "code",
   "execution_count": 6,
   "metadata": {},
   "outputs": [],
   "source": [
    "lstm_tc = ExplainableLSTM(glove, lstm_units=50, max_input_size=250)"
   ]
  },
  {
   "cell_type": "code",
   "execution_count": 6,
   "metadata": {},
   "outputs": [
    {
     "name": "stdout",
     "output_type": "stream",
     "text": [
      "WARNING:tensorflow:From /home/robin/.conda/envs/bachelor_thesis/lib/python3.6/site-packages/tensorflow/python/ops/resource_variable_ops.py:435: colocate_with (from tensorflow.python.framework.ops) is deprecated and will be removed in a future version.\n",
      "Instructions for updating:\n",
      "Colocations handled automatically by placer.\n",
      "Train on 181074 samples, validate on 20120 samples\n",
      "WARNING:tensorflow:From /home/robin/.conda/envs/bachelor_thesis/lib/python3.6/site-packages/tensorflow/python/ops/math_ops.py:3066: to_int32 (from tensorflow.python.ops.math_ops) is deprecated and will be removed in a future version.\n",
      "Instructions for updating:\n",
      "Use tf.cast instead.\n",
      "Epoch 1/6\n",
      "181074/181074 [==============================] - 1698s 9ms/sample - loss: 0.3629 - 0_label_loss: 0.1329 - 1_label_loss: 0.0245 - 2_label_loss: 0.0764 - 3_label_loss: 0.0140 - 4_label_loss: 0.0842 - 5_label_loss: 0.0310 - 0_label_acc: 0.9491 - 0_label_precision: 0.7674 - 0_label_recall: 0.5729 - 1_label_acc: 0.9909 - 1_label_precision: 0.7674 - 1_label_recall: 0.5730 - 2_label_acc: 0.9718 - 2_label_precision: 0.7674 - 2_label_recall: 0.5729 - 3_label_acc: 0.9968 - 3_label_precision: 0.7674 - 3_label_recall: 0.5730 - 4_label_acc: 0.9667 - 4_label_precision: 0.7674 - 4_label_recall: 0.5730 - 5_label_acc: 0.9908 - 5_label_precision: 0.7674 - 5_label_recall: 0.5730 - val_loss: 0.3167 - val_0_label_loss: 0.1256 - val_1_label_loss: 0.0193 - val_2_label_loss: 0.0684 - val_3_label_loss: 0.0098 - val_4_label_loss: 0.0711 - val_5_label_loss: 0.0226 - val_0_label_acc: 0.9534 - val_0_label_precision: 0.8029 - val_0_label_recall: 0.5972 - val_1_label_acc: 0.9931 - val_1_label_precision: 0.8028 - val_1_label_recall: 0.5968 - val_2_label_acc: 0.9746 - val_2_label_precision: 0.8029 - val_2_label_recall: 0.5971 - val_3_label_acc: 0.9976 - val_3_label_precision: 0.8028 - val_3_label_recall: 0.5971 - val_4_label_acc: 0.9705 - val_4_label_precision: 0.8028 - val_4_label_recall: 0.5972 - val_5_label_acc: 0.9932 - val_5_label_precision: 0.8029 - val_5_label_recall: 0.5971\n",
      "Epoch 2/6\n",
      "181074/181074 [==============================] - 1872s 10ms/sample - loss: 0.3098 - 0_label_loss: 0.1158 - 1_label_loss: 0.0222 - 2_label_loss: 0.0644 - 3_label_loss: 0.0099 - 4_label_loss: 0.0727 - 5_label_loss: 0.0248 - 0_label_acc: 0.9548 - 0_label_precision: 0.7921 - 0_label_recall: 0.6342 - 1_label_acc: 0.9914 - 1_label_precision: 0.7921 - 1_label_recall: 0.6343 - 2_label_acc: 0.9757 - 2_label_precision: 0.7921 - 2_label_recall: 0.6343 - 3_label_acc: 0.9971 - 3_label_precision: 0.7921 - 3_label_recall: 0.6343 - 4_label_acc: 0.9707 - 4_label_precision: 0.7921 - 4_label_recall: 0.6342 - 5_label_acc: 0.9918 - 5_label_precision: 0.7921 - 5_label_recall: 0.6343 - val_loss: 0.2953 - val_0_label_loss: 0.1143 - val_1_label_loss: 0.0195 - val_2_label_loss: 0.0623 - val_3_label_loss: 0.0080 - val_4_label_loss: 0.0693 - val_5_label_loss: 0.0219 - val_0_label_acc: 0.9545 - val_0_label_precision: 0.7859 - val_0_label_recall: 0.6454 - val_1_label_acc: 0.9931 - val_1_label_precision: 0.7859 - val_1_label_recall: 0.6454 - val_2_label_acc: 0.9760 - val_2_label_precision: 0.7859 - val_2_label_recall: 0.6457 - val_3_label_acc: 0.9978 - val_3_label_precision: 0.7859 - val_3_label_recall: 0.6457 - val_4_label_acc: 0.9721 - val_4_label_precision: 0.7859 - val_4_label_recall: 0.6457 - val_5_label_acc: 0.9929 - val_5_label_precision: 0.7859 - val_5_label_recall: 0.6454\n",
      "Epoch 3/6\n",
      "181074/181074 [==============================] - 1807s 10ms/sample - loss: 0.2983 - 0_label_loss: 0.1119 - 1_label_loss: 0.0219 - 2_label_loss: 0.0618 - 3_label_loss: 0.0091 - 4_label_loss: 0.0700 - 5_label_loss: 0.0236 - 0_label_acc: 0.9565 - 0_label_precision: 0.7992 - 0_label_recall: 0.6520 - 1_label_acc: 0.9914 - 1_label_precision: 0.7992 - 1_label_recall: 0.6520 - 2_label_acc: 0.9770 - 2_label_precision: 0.7992 - 2_label_recall: 0.6520 - 3_label_acc: 0.9971 - 3_label_precision: 0.7992 - 3_label_recall: 0.6520 - 4_label_acc: 0.9721 - 4_label_precision: 0.7992 - 4_label_recall: 0.6520 - 5_label_acc: 0.9920 - 5_label_precision: 0.7992 - 5_label_recall: 0.6520 - val_loss: 0.2946 - val_0_label_loss: 0.1130 - val_1_label_loss: 0.0191 - val_2_label_loss: 0.0613 - val_3_label_loss: 0.0086 - val_4_label_loss: 0.0702 - val_5_label_loss: 0.0225 - val_0_label_acc: 0.9553 - val_0_label_precision: 0.7725 - val_0_label_recall: 0.6630 - val_1_label_acc: 0.9933 - val_1_label_precision: 0.7727 - val_1_label_recall: 0.6630 - val_2_label_acc: 0.9763 - val_2_label_precision: 0.7727 - val_2_label_recall: 0.6630 - val_3_label_acc: 0.9970 - val_3_label_precision: 0.7725 - val_3_label_recall: 0.6630 - val_4_label_acc: 0.9714 - val_4_label_precision: 0.7727 - val_4_label_recall: 0.6630 - val_5_label_acc: 0.9929 - val_5_label_precision: 0.7727 - val_5_label_recall: 0.6630\n",
      "Epoch 4/6\n",
      "181074/181074 [==============================] - 1788s 10ms/sample - loss: 0.2897 - 0_label_loss: 0.1090 - 1_label_loss: 0.0213 - 2_label_loss: 0.0599 - 3_label_loss: 0.0084 - 4_label_loss: 0.0683 - 5_label_loss: 0.0227 - 0_label_acc: 0.9573 - 0_label_precision: 0.8028 - 0_label_recall: 0.6609 - 1_label_acc: 0.9913 - 1_label_precision: 0.8028 - 1_label_recall: 0.6609 - 2_label_acc: 0.9773 - 2_label_precision: 0.8028 - 2_label_recall: 0.6609 - 3_label_acc: 0.9972 - 3_label_precision: 0.8028 - 3_label_recall: 0.6609 - 4_label_acc: 0.9725 - 4_label_precision: 0.8028 - 4_label_recall: 0.6609 - 5_label_acc: 0.9926 - 5_label_precision: 0.8028 - 5_label_recall: 0.6609 - val_loss: 0.2989 - val_0_label_loss: 0.1171 - val_1_label_loss: 0.0192 - val_2_label_loss: 0.0617 - val_3_label_loss: 0.0093 - val_4_label_loss: 0.0691 - val_5_label_loss: 0.0224 - val_0_label_acc: 0.9541 - val_0_label_precision: 0.7600 - val_0_label_recall: 0.6841 - val_1_label_acc: 0.9933 - val_1_label_precision: 0.7597 - val_1_label_recall: 0.6837 - val_2_label_acc: 0.9766 - val_2_label_precision: 0.7597 - val_2_label_recall: 0.6839 - val_3_label_acc: 0.9973 - val_3_label_precision: 0.7600 - val_3_label_recall: 0.6839 - val_4_label_acc: 0.9724 - val_4_label_precision: 0.7597 - val_4_label_recall: 0.6837 - val_5_label_acc: 0.9925 - val_5_label_precision: 0.7600 - val_5_label_recall: 0.6835\n",
      "Epoch 5/6\n",
      "181074/181074 [==============================] - 1705s 9ms/sample - loss: 0.2831 - 0_label_loss: 0.1066 - 1_label_loss: 0.0211 - 2_label_loss: 0.0586 - 3_label_loss: 0.0082 - 4_label_loss: 0.0667 - 5_label_loss: 0.0219 - 0_label_acc: 0.9581 - 0_label_precision: 0.8052 - 0_label_recall: 0.6690 - 1_label_acc: 0.9914 - 1_label_precision: 0.8052 - 1_label_recall: 0.6690 - 2_label_acc: 0.9779 - 2_label_precision: 0.8052 - 2_label_recall: 0.6690 - 3_label_acc: 0.9972 - 3_label_precision: 0.8052 - 3_label_recall: 0.6690 - 4_label_acc: 0.9730 - 4_label_precision: 0.8052 - 4_label_recall: 0.6690 - 5_label_acc: 0.9926 - 5_label_precision: 0.8052 - 5_label_recall: 0.6690 - val_loss: 0.3041 - val_0_label_loss: 0.1169 - val_1_label_loss: 0.0198 - val_2_label_loss: 0.0656 - val_3_label_loss: 0.0086 - val_4_label_loss: 0.0718 - val_5_label_loss: 0.0214 - val_0_label_acc: 0.9538 - val_0_label_precision: 0.7875 - val_0_label_recall: 0.6273 - val_1_label_acc: 0.9932 - val_1_label_precision: 0.7875 - val_1_label_recall: 0.6272 - val_2_label_acc: 0.9745 - val_2_label_precision: 0.7875 - val_2_label_recall: 0.6266 - val_3_label_acc: 0.9979 - val_3_label_precision: 0.7875 - val_3_label_recall: 0.6266 - val_4_label_acc: 0.9718 - val_4_label_precision: 0.7875 - val_4_label_recall: 0.6266 - val_5_label_acc: 0.9927 - val_5_label_precision: 0.7875 - val_5_label_recall: 0.6266\n",
      "Epoch 6/6\n",
      "181074/181074 [==============================] - 1704s 9ms/sample - loss: 0.2750 - 0_label_loss: 0.1039 - 1_label_loss: 0.0209 - 2_label_loss: 0.0569 - 3_label_loss: 0.0078 - 4_label_loss: 0.0645 - 5_label_loss: 0.0210 - 0_label_acc: 0.9590 - 0_label_precision: 0.8090 - 0_label_recall: 0.6793 - 1_label_acc: 0.9916 - 1_label_precision: 0.8090 - 1_label_recall: 0.6793 - 2_label_acc: 0.9784 - 2_label_precision: 0.8090 - 2_label_recall: 0.6793 - 3_label_acc: 0.9973 - 3_label_precision: 0.8090 - 3_label_recall: 0.6793 - 4_label_acc: 0.9738 - 4_label_precision: 0.8090 - 4_label_recall: 0.6793 - 5_label_acc: 0.9928 - 5_label_precision: 0.8090 - 5_label_recall: 0.6793 - val_loss: 0.3001 - val_0_label_loss: 0.1163 - val_1_label_loss: 0.0191 - val_2_label_loss: 0.0636 - val_3_label_loss: 0.0084 - val_4_label_loss: 0.0716 - val_5_label_loss: 0.0211 - val_0_label_acc: 0.9549 - val_0_label_precision: 0.7792 - val_0_label_recall: 0.6425 - val_1_label_acc: 0.9934 - val_1_label_precision: 0.7792 - val_1_label_recall: 0.6425 - val_2_label_acc: 0.9757 - val_2_label_precision: 0.7792 - val_2_label_recall: 0.6424 - val_3_label_acc: 0.9975 - val_3_label_precision: 0.7792 - val_3_label_recall: 0.6425 - val_4_label_acc: 0.9700 - val_4_label_precision: 0.7794 - val_4_label_recall: 0.6427 - val_5_label_acc: 0.9930 - val_5_label_precision: 0.7792 - val_5_label_recall: 0.6425\n"
     ]
    }
   ],
   "source": [
    "lstm_tc.train(X_tc, y_tc, learning_rate=0.005, epochs=6)"
   ]
  },
  {
   "cell_type": "code",
   "execution_count": 7,
   "metadata": {},
   "outputs": [
    {
     "data": {
      "text/plain": [
       "[(0.8104395604395604, 0.6866852886405959, 0.7434475806451613),\n",
       " (0.5652173913043478, 0.14285714285714285, 0.22807017543859645),\n",
       " (0.8300198807157058, 0.6827473426001636, 0.7492148945715568),\n",
       " (0.5833333333333334, 0.29577464788732394, 0.39252336448598135),\n",
       " (0.7094017094017094, 0.664, 0.6859504132231405),\n",
       " (0.6744186046511628, 0.4416243654822335, 0.5337423312883436)]"
      ]
     },
     "execution_count": 7,
     "metadata": {},
     "output_type": "execute_result"
    }
   ],
   "source": [
    "lstm_tc.evaluate(X_tc_test, y_tc_test, metric='f1')"
   ]
  },
  {
   "cell_type": "code",
   "execution_count": 21,
   "metadata": {},
   "outputs": [],
   "source": [
    "# lstm_tc.export_model('../trained_models/lstm_tc')"
   ]
  },
  {
   "cell_type": "code",
   "execution_count": 9,
   "metadata": {},
   "outputs": [],
   "source": [
    "lstm_tc2 = ExplainableLSTM.import_model('../trained_models/lstm_tc', glove)"
   ]
  },
  {
   "cell_type": "markdown",
   "metadata": {},
   "source": [
    "## Attention LSTM (Toxic Comments)"
   ]
  },
  {
   "cell_type": "code",
   "execution_count": 22,
   "metadata": {},
   "outputs": [],
   "source": [
    "att_lstm_tc = ExplainableAttentionLSTM(glove, lstm_units=50, max_input_size=250)"
   ]
  },
  {
   "cell_type": "code",
   "execution_count": 23,
   "metadata": {},
   "outputs": [
    {
     "name": "stdout",
     "output_type": "stream",
     "text": [
      "Epoch 1/3\n",
      "201194/201194 [==============================] - 1169s 6ms/step - loss: 0.3761 - 0_label_loss: 0.1316 - 1_label_loss: 0.0270 - 2_label_loss: 0.0844 - 3_label_loss: 0.0160 - 4_label_loss: 0.0858 - 5_label_loss: 0.0315 - 0_label_acc: 0.9491 - 1_label_acc: 0.9907 - 2_label_acc: 0.9694 - 3_label_acc: 0.9968 - 4_label_acc: 0.9667 - 5_label_acc: 0.9911\n",
      "Epoch 2/3\n",
      "201194/201194 [==============================] - 1290s 6ms/step - loss: 0.3013 - 0_label_loss: 0.1124 - 1_label_loss: 0.0215 - 2_label_loss: 0.0635 - 3_label_loss: 0.0095 - 4_label_loss: 0.0709 - 5_label_loss: 0.0236 - 0_label_acc: 0.9557 - 1_label_acc: 0.9916 - 2_label_acc: 0.9762 - 3_label_acc: 0.9972 - 4_label_acc: 0.9714 - 5_label_acc: 0.9923\n",
      "Epoch 3/3\n",
      "201194/201194 [==============================] - 1276s 6ms/step - loss: 0.2863 - 0_label_loss: 0.1075 - 1_label_loss: 0.0209 - 2_label_loss: 0.0597 - 3_label_loss: 0.0083 - 4_label_loss: 0.0677 - 5_label_loss: 0.0221 - 0_label_acc: 0.9577 - 1_label_acc: 0.9916 - 2_label_acc: 0.9775 - 3_label_acc: 0.9972 - 4_label_acc: 0.9729 - 5_label_acc: 0.9924\n"
     ]
    }
   ],
   "source": [
    "att_lstm_tc.train(X_tc, y_tc)"
   ]
  },
  {
   "cell_type": "code",
   "execution_count": 24,
   "metadata": {},
   "outputs": [
    {
     "data": {
      "text/plain": [
       "[(0.845372460496614, 0.6973929236499069, 0.7642857142857142),\n",
       " (0.5833333333333334, 0.07692307692307693, 0.13592233009708737),\n",
       " (0.8614900314795383, 0.6713000817661489, 0.7545955882352942),\n",
       " (0.8928571428571429, 0.352112676056338, 0.5050505050505051),\n",
       " (0.776361529548088, 0.5955555555555555, 0.6740442655935613),\n",
       " (0.6577181208053692, 0.49746192893401014, 0.5664739884393064)]"
      ]
     },
     "execution_count": 24,
     "metadata": {},
     "output_type": "execute_result"
    }
   ],
   "source": [
    "att_lstm_tc.evaluate(X_tc_test, y_tc_test, metric='f1')"
   ]
  },
  {
   "cell_type": "code",
   "execution_count": 25,
   "metadata": {},
   "outputs": [],
   "source": [
    "# att_lstm_tc.export_model('../trained_models/att_lstm_tc')"
   ]
  },
  {
   "cell_type": "code",
   "execution_count": 18,
   "metadata": {},
   "outputs": [],
   "source": [
    "att_lstm_tc2 = ExplainableAttentionLSTM.import_model('../trained_models/att_lstm_tc', glove)"
   ]
  },
  {
   "cell_type": "markdown",
   "metadata": {},
   "source": [
    "## SVM (Toxic Comments)"
   ]
  },
  {
   "cell_type": "code",
   "execution_count": 8,
   "metadata": {},
   "outputs": [],
   "source": [
    "svm_tc = ExplainableSVM()"
   ]
  },
  {
   "cell_type": "code",
   "execution_count": 9,
   "metadata": {},
   "outputs": [],
   "source": [
    "svm_tc.train(X_tc[:150000], y_tc[:150000])"
   ]
  },
  {
   "cell_type": "code",
   "execution_count": 10,
   "metadata": {},
   "outputs": [
    {
     "data": {
      "text/plain": [
       "[(0.8296605122096486, 0.6485102420856611, 0.7279853671282989),\n",
       " (0.5227272727272727, 0.25274725274725274, 0.34074074074074073),\n",
       " (0.8450413223140496, 0.6688470973017171, 0.7466910086718394),\n",
       " (0.46875, 0.2112676056338028, 0.2912621359223301),\n",
       " (0.7452153110047847, 0.5537777777777778, 0.6353901070882203),\n",
       " (0.6161616161616161, 0.3096446700507614, 0.41216216216216217)]"
      ]
     },
     "execution_count": 10,
     "metadata": {},
     "output_type": "execute_result"
    }
   ],
   "source": [
    "svm_tc.evaluate(X_tc_test[:50000], y_tc_test[:50000], metric='f1')"
   ]
  },
  {
   "cell_type": "code",
   "execution_count": 19,
   "metadata": {},
   "outputs": [],
   "source": [
    "# svm_tc.export_model('../traine_models/svm_tc')"
   ]
  },
  {
   "cell_type": "code",
   "execution_count": 20,
   "metadata": {},
   "outputs": [],
   "source": [
    "svm_tc2 = ExplainableSVM.import_model('../trained_models/svm_tc')"
   ]
  },
  {
   "cell_type": "markdown",
   "metadata": {},
   "source": [
    "## Naive Bayes (Toxic Comments)"
   ]
  },
  {
   "cell_type": "code",
   "execution_count": 11,
   "metadata": {},
   "outputs": [],
   "source": [
    "naive_tc = ExplainableNaiveBayes()"
   ]
  },
  {
   "cell_type": "code",
   "execution_count": 12,
   "metadata": {},
   "outputs": [],
   "source": [
    "naive_tc.train(X_tc, y_tc)"
   ]
  },
  {
   "cell_type": "code",
   "execution_count": 15,
   "metadata": {},
   "outputs": [
    {
     "data": {
      "text/plain": [
       "[(0.6903131115459883, 0.6568901303538175, 0.6731870229007633),\n",
       " (0.2553191489361702, 0.5274725274725275, 0.34408602150537626),\n",
       " (0.612952968388589, 0.6500408830744072, 0.6309523809523809),\n",
       " (0.015384615384615385, 0.014084507042253521, 0.014705882352941176),\n",
       " (0.5563492063492064, 0.6231111111111111, 0.5878406708595388),\n",
       " (0.24897959183673468, 0.3096446700507614, 0.2760180995475113)]"
      ]
     },
     "execution_count": 15,
     "metadata": {},
     "output_type": "execute_result"
    }
   ],
   "source": [
    "naive_tc.evaluate(X_tc_test, y_tc_test, metric='f1')"
   ]
  },
  {
   "cell_type": "code",
   "execution_count": 10,
   "metadata": {},
   "outputs": [],
   "source": [
    "# naive_tc.export_model('../trained_models/naive_tc')"
   ]
  },
  {
   "cell_type": "code",
   "execution_count": 21,
   "metadata": {},
   "outputs": [],
   "source": [
    "naive_tc2 = ExplainableNaiveBayes.import_model('../trained_models/naive_tc')"
   ]
  },
  {
   "cell_type": "markdown",
   "metadata": {},
   "source": [
    "----\n",
    "\n",
    "\n",
    "----\n",
    "\n",
    "\n",
    "\n",
    "----\n",
    "\n",
    "----\n",
    "\n",
    "----\n",
    "\n",
    "----"
   ]
  }
 ],
 "metadata": {
  "kernelspec": {
   "display_name": "Python 3",
   "language": "python",
   "name": "python3"
  },
  "language_info": {
   "codemirror_mode": {
    "name": "ipython",
    "version": 3
   },
   "file_extension": ".py",
   "mimetype": "text/x-python",
   "name": "python",
   "nbconvert_exporter": "python",
   "pygments_lexer": "ipython3",
   "version": "3.6.7"
  }
 },
 "nbformat": 4,
 "nbformat_minor": 2
}
